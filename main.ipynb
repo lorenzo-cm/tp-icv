{
 "cells": [
  {
   "cell_type": "code",
   "execution_count": 1,
   "metadata": {},
   "outputs": [
    {
     "name": "stdout",
     "output_type": "stream",
     "text": [
      "Accuracy: 93.02%\n"
     ]
    }
   ],
   "source": [
    "import os\n",
    "from hog.hog import train_hog, test_hog, save_hog, load_hog\n",
    "from utils.load_data import get_test_data, get_train_data\n",
    "\n",
    "hog_classifier_path = 'models/captcha_classifier_hog.pkl'\n",
    "\n",
    "if not os.path.exists(hog_classifier_path):\n",
    "    X_train, y_train = get_train_data()\n",
    "\n",
    "    classifier = train_hog(X_train, y_train)\n",
    "    \n",
    "    save_hog(classifier, hog_classifier_path)\n",
    "    \n",
    "else:\n",
    "    classifier = load_hog(hog_classifier_path)\n",
    "\n",
    "X_test, y_test = get_test_data()\n",
    "\n",
    "\n",
    "accuracy = test_hog(classifier, X_test, y_test)"
   ]
  }
 ],
 "metadata": {
  "kernelspec": {
   "display_name": "ecg",
   "language": "python",
   "name": "python3"
  },
  "language_info": {
   "codemirror_mode": {
    "name": "ipython",
    "version": 3
   },
   "file_extension": ".py",
   "mimetype": "text/x-python",
   "name": "python",
   "nbconvert_exporter": "python",
   "pygments_lexer": "ipython3",
   "version": "3.11.5"
  }
 },
 "nbformat": 4,
 "nbformat_minor": 2
}
